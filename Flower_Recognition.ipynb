{
  "nbformat": 4,
  "nbformat_minor": 0,
  "metadata": {
    "colab": {
      "name": "Flower Recognition.ipynb",
      "version": "0.3.2",
      "provenance": [],
      "collapsed_sections": [],
      "include_colab_link": true
    },
    "kernelspec": {
      "name": "python3",
      "display_name": "Python 3"
    },
    "accelerator": "GPU"
  },
  "cells": [
    {
      "cell_type": "markdown",
      "metadata": {
        "id": "view-in-github",
        "colab_type": "text"
      },
      "source": [
        "<a href=\"https://colab.research.google.com/github/manashpratim/Flower_Recognition/blob/master/Flower_Recognition.ipynb\" target=\"_parent\"><img src=\"https://colab.research.google.com/assets/colab-badge.svg\" alt=\"Open In Colab\"/></a>"
      ]
    },
    {
      "cell_type": "code",
      "metadata": {
        "id": "Ltq2DkjvtZdZ",
        "colab_type": "code",
        "colab": {
          "base_uri": "https://localhost:8080/",
          "height": 224
        },
        "outputId": "d9695c43-80b6-4fc2-b991-c1e447e0e4d1"
      },
      "source": [
        "!wget --no-check-certificate \\\n",
        "      \"https://storage.googleapis.com/kaggle-datasets/8782/44566/flowers.zip?GoogleAccessId=web-data@kaggle-161607.iam.gserviceaccount.com&Expires=1560954890&Signature=C4S68yCItn46JHtro62IpvAqYJF96tEAScl2VbJ%2BuuUBEIzWtbDHPhkV6qmA%2Bv9y6Dy0eAMW529ZSWvuy12pDnB7Xd2TLXz88ZctDG%2B4nJMnNQh9b97CYB9MtW8teqAPf440wlhyauZ0fYacqGkNU00rpLi6gT6b34glR%2BgQ%2Fb3S4DQMl1Dwwfhc48bY9efReoHGCgl2dEJUHoqGCupz3C9CLfP9t0JrE9UOEVNcNQQ7PZcqDYPQOmHzHuiaUOEk9XZlOVn8B5n67h9Qpj%2FDDOVNXP7fBZd%2FHqi1QfZR84wC6um%2Bb8BSYgMwwtuBzxYtiPAG0A4NveWprCuka2yIwA%3D%3D\" \\\n",
        "       -O \"/tmp/flowers.zip\""
      ],
      "execution_count": 1,
      "outputs": [
        {
          "output_type": "stream",
          "text": [
            "--2019-06-16 17:24:30--  https://storage.googleapis.com/kaggle-datasets/8782/44566/flowers.zip?GoogleAccessId=web-data@kaggle-161607.iam.gserviceaccount.com&Expires=1560954890&Signature=C4S68yCItn46JHtro62IpvAqYJF96tEAScl2VbJ%2BuuUBEIzWtbDHPhkV6qmA%2Bv9y6Dy0eAMW529ZSWvuy12pDnB7Xd2TLXz88ZctDG%2B4nJMnNQh9b97CYB9MtW8teqAPf440wlhyauZ0fYacqGkNU00rpLi6gT6b34glR%2BgQ%2Fb3S4DQMl1Dwwfhc48bY9efReoHGCgl2dEJUHoqGCupz3C9CLfP9t0JrE9UOEVNcNQQ7PZcqDYPQOmHzHuiaUOEk9XZlOVn8B5n67h9Qpj%2FDDOVNXP7fBZd%2FHqi1QfZR84wC6um%2Bb8BSYgMwwtuBzxYtiPAG0A4NveWprCuka2yIwA%3D%3D\n",
            "Resolving storage.googleapis.com (storage.googleapis.com)... 172.217.25.80, 2404:6800:4004:809::2010\n",
            "Connecting to storage.googleapis.com (storage.googleapis.com)|172.217.25.80|:443... connected.\n",
            "HTTP request sent, awaiting response... 200 OK\n",
            "Length: 235781000 (225M) [application/x-zip-compressed]\n",
            "Saving to: ‘/tmp/flowers.zip’\n",
            "\n",
            "/tmp/flowers.zip    100%[===================>] 224.86M   134MB/s    in 1.7s    \n",
            "\n",
            "2019-06-16 17:24:32 (134 MB/s) - ‘/tmp/flowers.zip’ saved [235781000/235781000]\n",
            "\n"
          ],
          "name": "stdout"
        }
      ]
    },
    {
      "cell_type": "code",
      "metadata": {
        "id": "--fmwDoLubo4",
        "colab_type": "code",
        "colab": {}
      },
      "source": [
        "import os\n",
        "import zipfile\n",
        "\n",
        "local_zip='/tmp/flowers.zip'\n",
        "zip_ref=zipfile.ZipFile(local_zip,'r')\n",
        "zip_ref.extractall('/tmp/flowers')\n",
        "zip_ref.close()"
      ],
      "execution_count": 0,
      "outputs": []
    },
    {
      "cell_type": "code",
      "metadata": {
        "id": "2f4mJvZVv4KQ",
        "colab_type": "code",
        "colab": {}
      },
      "source": [
        "# Making directories using Python\n",
        "flowers=['daisy', 'tulip', 'rose', 'sunflower', 'dandelion']\n",
        "\n",
        "try:\n",
        "    os.makedirs('/tmp/Flowers/training/')\n",
        "    os.makedirs('/tmp/Flowers/testing/')\n",
        "    for flower in flowers:\n",
        "      os.mkdir('/tmp/Flowers/training/'+flower+'/')\n",
        "      os.mkdir('/tmp/Flowers/testing/'+flower+'/')\n",
        "except OSError:\n",
        "     pass"
      ],
      "execution_count": 0,
      "outputs": []
    },
    {
      "cell_type": "code",
      "metadata": {
        "id": "DB29WYBP66N9",
        "colab_type": "code",
        "colab": {}
      },
      "source": [
        "#Function for Splitting Data\n",
        "def split_data(SOURCE,TRAINING,TESTING,SPLIT_SIZE):\n",
        "  files=[]\n",
        "  \n",
        "  for filename in os.listdir(SOURCE):\n",
        "    file=SOURCE+filename\n",
        "    if os.path.getsize(file)>0:\n",
        "      files.append(filename)\n",
        "    else:\n",
        "      print(filename + ' is zero length. So ignoring!')\n",
        "      \n",
        "  train_length =int(len(files)* SPLIT_SIZE)\n",
        "  test_length =int(len(files)-train_length)\n",
        "  \n",
        "  import random\n",
        "  suffled_set=random.sample(files,len(files))\n",
        "  \n",
        "  train_set=suffled_set[0:train_length]\n",
        "  test_set=suffled_set[train_length:]\n",
        "  \n",
        "  from shutil import copyfile\n",
        "  for filename in train_set:\n",
        "    copyfile(SOURCE+filename,TRAINING+filename)\n",
        "    \n",
        "  for filename in test_set:\n",
        "    copyfile(SOURCE+filename,TESTING+filename)\n",
        "    "
      ],
      "execution_count": 0,
      "outputs": []
    },
    {
      "cell_type": "code",
      "metadata": {
        "id": "3K9ERPvf_A3V",
        "colab_type": "code",
        "colab": {}
      },
      "source": [
        "#Splitting Data\n",
        "for flower in flowers:\n",
        "  SOURCE='/tmp/flowers/flowers/'+flower+'/'\n",
        "  TRAINING='/tmp/Flowers/training/'+flower+'/'\n",
        "  TESTING='/tmp/Flowers/testing/'+flower+'/'\n",
        "  SPLIT_SIZE=0.9\n",
        "  split_data(SOURCE,TRAINING,TESTING,SPLIT_SIZE)\n",
        "  "
      ],
      "execution_count": 0,
      "outputs": []
    },
    {
      "cell_type": "code",
      "metadata": {
        "id": "LYJP1fsI-21F",
        "colab_type": "code",
        "colab": {
          "base_uri": "https://localhost:8080/",
          "height": 187
        },
        "outputId": "ea8dc4e7-d1a2-4672-f129-e1ea1f3740b1"
      },
      "source": [
        "for flower in flowers:\n",
        "  TRAINING='/tmp/Flowers/training/'+flower+'/'\n",
        "  TESTING='/tmp/Flowers/testing/'+flower+'/'\n",
        "  print('Total training '+ flower+' images:',len(os.listdir(TRAINING)))\n",
        "  print('Total testing '+ flower+' images:',len(os.listdir(TESTING)))\n",
        "  "
      ],
      "execution_count": 9,
      "outputs": [
        {
          "output_type": "stream",
          "text": [
            "Total training daisy images: 692\n",
            "Total testing daisy images: 77\n",
            "Total training tulip images: 885\n",
            "Total testing tulip images: 99\n",
            "Total training rose images: 705\n",
            "Total testing rose images: 79\n",
            "Total training sunflower images: 660\n",
            "Total testing sunflower images: 74\n",
            "Total training dandelion images: 949\n",
            "Total testing dandelion images: 106\n"
          ],
          "name": "stdout"
        }
      ]
    },
    {
      "cell_type": "code",
      "metadata": {
        "id": "37z5_OSkCnfd",
        "colab_type": "code",
        "colab": {}
      },
      "source": [
        "import tensorflow as tf\n",
        "from tensorflow import keras"
      ],
      "execution_count": 0,
      "outputs": []
    },
    {
      "cell_type": "code",
      "metadata": {
        "id": "zmAbAVQnDZP7",
        "colab_type": "code",
        "colab": {
          "base_uri": "https://localhost:8080/",
          "height": 51
        },
        "outputId": "35cae211-45f6-4502-e347-d7e3f6640172"
      },
      "source": [
        "#Image Generator\n",
        "from tensorflow.keras.preprocessing.image import ImageDataGenerator\n",
        "\n",
        "train_datagen=ImageDataGenerator(rescale=1./255)\n",
        "\n",
        "train_generator=train_datagen.flow_from_directory(\n",
        "      '/tmp/Flowers/training/',\n",
        "      target_size=(150,150),\n",
        "      batch_size=50,\n",
        "      class_mode='sparse'\n",
        ")\n",
        "\n",
        "test_datagen=ImageDataGenerator(rescale=1./255)\n",
        "test_generator=train_datagen.flow_from_directory(\n",
        "      '/tmp/Flowers/testing/',\n",
        "      target_size=(150,150),\n",
        "      batch_size=10,\n",
        "      class_mode='sparse'\n",
        ")"
      ],
      "execution_count": 11,
      "outputs": [
        {
          "output_type": "stream",
          "text": [
            "Found 3888 images belonging to 5 classes.\n",
            "Found 435 images belonging to 5 classes.\n"
          ],
          "name": "stdout"
        }
      ]
    },
    {
      "cell_type": "code",
      "metadata": {
        "id": "AVuqYcjMF86P",
        "colab_type": "code",
        "colab": {
          "base_uri": "https://localhost:8080/",
          "height": 105
        },
        "outputId": "d396f264-15a9-4c6b-dd78-5da6f2ed3037"
      },
      "source": [
        "#Building a ConvNet\n",
        "\n",
        "model=tf.keras.models.Sequential([\n",
        "    tf.keras.layers.Conv2D(64,(3,3),activation='relu',input_shape=(150,150,3)),\n",
        "    tf.keras.layers.MaxPooling2D(2,2),\n",
        "    tf.keras.layers.Flatten(),\n",
        "    tf.keras.layers.Dense(512,activation='relu'),\n",
        "    tf.keras.layers.Dense(5,activation='softmax')\n",
        "])"
      ],
      "execution_count": 12,
      "outputs": [
        {
          "output_type": "stream",
          "text": [
            "WARNING: Logging before flag parsing goes to stderr.\n",
            "W0616 17:37:58.119821 140160154085248 deprecation.py:506] From /usr/local/lib/python3.6/dist-packages/tensorflow/python/ops/init_ops.py:1251: calling VarianceScaling.__init__ (from tensorflow.python.ops.init_ops) with dtype is deprecated and will be removed in a future version.\n",
            "Instructions for updating:\n",
            "Call initializer instance with the dtype argument instead of passing it to the constructor\n"
          ],
          "name": "stderr"
        }
      ]
    },
    {
      "cell_type": "code",
      "metadata": {
        "id": "lWXNIVSkG0JJ",
        "colab_type": "code",
        "colab": {
          "base_uri": "https://localhost:8080/",
          "height": 428
        },
        "outputId": "95dfc384-f3a8-406d-f884-a86035be5b97"
      },
      "source": [
        "model.compile(optimizer='adagrad',loss='sparse_categorical_crossentropy',metrics=['accuracy'])\n",
        "history=model.fit_generator(\n",
        "  train_generator,\n",
        "  epochs=10,\n",
        "  validation_data=test_generator,\n",
        "  verbose=1\n",
        ")"
      ],
      "execution_count": 14,
      "outputs": [
        {
          "output_type": "stream",
          "text": [
            "W0616 17:38:30.527910 140160154085248 deprecation.py:506] From /usr/local/lib/python3.6/dist-packages/tensorflow/python/keras/optimizer_v2/adagrad.py:105: calling Constant.__init__ (from tensorflow.python.ops.init_ops) with dtype is deprecated and will be removed in a future version.\n",
            "Instructions for updating:\n",
            "Call initializer instance with the dtype argument instead of passing it to the constructor\n"
          ],
          "name": "stderr"
        },
        {
          "output_type": "stream",
          "text": [
            "Epoch 1/10\n",
            "78/78 [==============================] - 18s 228ms/step - loss: 5.5274 - acc: 0.3783 - val_loss: 1.1461 - val_acc: 0.5448\n",
            "Epoch 2/10\n",
            "78/78 [==============================] - 13s 163ms/step - loss: 1.1846 - acc: 0.5213 - val_loss: 1.0782 - val_acc: 0.5724\n",
            "Epoch 3/10\n",
            "78/78 [==============================] - 13s 161ms/step - loss: 1.0193 - acc: 0.5887 - val_loss: 1.0713 - val_acc: 0.5494\n",
            "Epoch 4/10\n",
            "78/78 [==============================] - 12s 157ms/step - loss: 0.9043 - acc: 0.6433 - val_loss: 1.0314 - val_acc: 0.5747\n",
            "Epoch 5/10\n",
            "78/78 [==============================] - 12s 156ms/step - loss: 0.8031 - acc: 0.7101 - val_loss: 0.9867 - val_acc: 0.6092\n",
            "Epoch 6/10\n",
            "78/78 [==============================] - 12s 156ms/step - loss: 0.7243 - acc: 0.7500 - val_loss: 1.0861 - val_acc: 0.5885\n",
            "Epoch 7/10\n",
            "78/78 [==============================] - 12s 158ms/step - loss: 0.6601 - acc: 0.7832 - val_loss: 0.9834 - val_acc: 0.6115\n",
            "Epoch 8/10\n",
            "78/78 [==============================] - 12s 156ms/step - loss: 0.6121 - acc: 0.8092 - val_loss: 0.9351 - val_acc: 0.6414\n",
            "Epoch 9/10\n",
            "78/78 [==============================] - 12s 158ms/step - loss: 0.5621 - acc: 0.8341 - val_loss: 0.9127 - val_acc: 0.6598\n",
            "Epoch 10/10\n",
            "78/78 [==============================] - 12s 157ms/step - loss: 0.5031 - acc: 0.8621 - val_loss: 0.9935 - val_acc: 0.6069\n"
          ],
          "name": "stdout"
        }
      ]
    },
    {
      "cell_type": "code",
      "metadata": {
        "id": "K9Rs3HfKLBop",
        "colab_type": "code",
        "colab": {
          "base_uri": "https://localhost:8080/",
          "height": 521
        },
        "outputId": "bc2d6a44-326f-4526-d259-2bb579ce43fb"
      },
      "source": [
        "#Evaluating Accuracy and Loss of the model\n",
        "%matplotlib inline\n",
        "acc=history.history['acc']\n",
        "val_acc=history.history['val_acc']\n",
        "loss=history.history['loss']\n",
        "val_loss=history.history['val_loss']\n",
        "\n",
        "epochs=range(len(acc)) #No. of epochs\n",
        "\n",
        "#Plot training and validation accuracy per epoch\n",
        "import matplotlib.pyplot as plt\n",
        "plt.plot(epochs,acc,'r',label='Training Accuracy')\n",
        "plt.plot(epochs,val_acc,'g',label='Testing Accuracy')\n",
        "plt.legend()\n",
        "plt.figure()\n",
        "\n",
        "#Plot training and validation loss per epoch\n",
        "plt.plot(epochs,loss,'r',label='Training Loss')\n",
        "plt.plot(epochs,val_loss,'g',label='Testing Loss')\n",
        "plt.legend()\n",
        "plt.show()"
      ],
      "execution_count": 15,
      "outputs": [
        {
          "output_type": "display_data",
          "data": {
            "image/png": "[encoded data removed]",
            "text/plain": [
              "<Figure size 432x288 with 1 Axes>"
            ]
          },
          "metadata": {
            "tags": []
          }
        },
        {
          "output_type": "display_data",
          "data": {
            "image/png": "[encoded data removed]",
            "text/plain": [
              "<Figure size 432x288 with 1 Axes>"
            ]
          },
          "metadata": {
            "tags": []
          }
        }
      ]
    },
    {
      "cell_type": "code",
      "metadata": {
        "id": "wmldtzuQUIIE",
        "colab_type": "code",
        "colab": {}
      },
      "source": [
        "#Clean Up\n",
        "import os,signal\n",
        "os.kill(os.getpid(),signal.SIGKILL)"
      ],
      "execution_count": 0,
      "outputs": []
    },
    {
      "cell_type": "code",
      "metadata": {
        "id": "W7lakDw8WeUs",
        "colab_type": "code",
        "colab": {}
      },
      "source": [
        "#Removing Non empty directory\n",
        "import shutil\n",
        "shutil.rmtree('/tmp/Flowers/')"
      ],
      "execution_count": 0,
      "outputs": []
    }
  ]
}
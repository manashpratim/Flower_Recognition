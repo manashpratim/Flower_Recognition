{
  "nbformat": 4,
  "nbformat_minor": 0,
  "metadata": {
    "colab": {
      "name": "Flower Recognition.ipynb",
      "version": "0.3.2",
      "provenance": [],
      "collapsed_sections": [],
      "include_colab_link": true
    },
    "kernelspec": {
      "name": "python3",
      "display_name": "Python 3"
    },
    "accelerator": "GPU"
  },
  "cells": [
    {
      "cell_type": "markdown",
      "metadata": {
        "id": "view-in-github",
        "colab_type": "text"
      },
      "source": [
        "<a href=\"https://colab.research.google.com/github/manashpratim/Flower_Recognition/blob/master/Flower_Recognition.ipynb\" target=\"_parent\"><img src=\"https://colab.research.google.com/assets/colab-badge.svg\" alt=\"Open In Colab\"/></a>"
      ]
    },
    {
      "cell_type": "code",
      "metadata": {
        "id": "Ltq2DkjvtZdZ",
        "colab_type": "code",
        "outputId": "70da45bf-4fad-4816-d74a-6323f839fcb0",
        "colab": {
          "base_uri": "https://localhost:8080/",
          "height": 224
        }
      },
      "source": [
        "!wget --no-check-certificate \\\n",
        "      \"https://storage.googleapis.com/kaggle-datasets/8782/44566/flowers.zip?GoogleAccessId=web-data@kaggle-161607.iam.gserviceaccount.com&Expires=1560954890&Signature=C4S68yCItn46JHtro62IpvAqYJF96tEAScl2VbJ%2BuuUBEIzWtbDHPhkV6qmA%2Bv9y6Dy0eAMW529ZSWvuy12pDnB7Xd2TLXz88ZctDG%2B4nJMnNQh9b97CYB9MtW8teqAPf440wlhyauZ0fYacqGkNU00rpLi6gT6b34glR%2BgQ%2Fb3S4DQMl1Dwwfhc48bY9efReoHGCgl2dEJUHoqGCupz3C9CLfP9t0JrE9UOEVNcNQQ7PZcqDYPQOmHzHuiaUOEk9XZlOVn8B5n67h9Qpj%2FDDOVNXP7fBZd%2FHqi1QfZR84wC6um%2Bb8BSYgMwwtuBzxYtiPAG0A4NveWprCuka2yIwA%3D%3D\" \\\n",
        "       -O \"/tmp/flowers.zip\""
      ],
      "execution_count": 1,
      "outputs": [
        {
          "output_type": "stream",
          "text": [
            "--2019-06-17 01:34:28--  https://storage.googleapis.com/kaggle-datasets/8782/44566/flowers.zip?GoogleAccessId=web-data@kaggle-161607.iam.gserviceaccount.com&Expires=1560954890&Signature=C4S68yCItn46JHtro62IpvAqYJF96tEAScl2VbJ%2BuuUBEIzWtbDHPhkV6qmA%2Bv9y6Dy0eAMW529ZSWvuy12pDnB7Xd2TLXz88ZctDG%2B4nJMnNQh9b97CYB9MtW8teqAPf440wlhyauZ0fYacqGkNU00rpLi6gT6b34glR%2BgQ%2Fb3S4DQMl1Dwwfhc48bY9efReoHGCgl2dEJUHoqGCupz3C9CLfP9t0JrE9UOEVNcNQQ7PZcqDYPQOmHzHuiaUOEk9XZlOVn8B5n67h9Qpj%2FDDOVNXP7fBZd%2FHqi1QfZR84wC6um%2Bb8BSYgMwwtuBzxYtiPAG0A4NveWprCuka2yIwA%3D%3D\n",
            "Resolving storage.googleapis.com (storage.googleapis.com)... 209.85.200.128, 2607:f8b0:4001:c0d::80\n",
            "Connecting to storage.googleapis.com (storage.googleapis.com)|209.85.200.128|:443... connected.\n",
            "HTTP request sent, awaiting response... 200 OK\n",
            "Length: 235781000 (225M) [application/x-zip-compressed]\n",
            "Saving to: ‘/tmp/flowers.zip’\n",
            "\n",
            "/tmp/flowers.zip    100%[===================>] 224.86M   127MB/s    in 1.8s    \n",
            "\n",
            "2019-06-17 01:34:30 (127 MB/s) - ‘/tmp/flowers.zip’ saved [235781000/235781000]\n",
            "\n"
          ],
          "name": "stdout"
        }
      ]
    },
    {
      "cell_type": "code",
      "metadata": {
        "id": "--fmwDoLubo4",
        "colab_type": "code",
        "colab": {}
      },
      "source": [
        "import os\n",
        "import zipfile\n",
        "\n",
        "local_zip='/tmp/flowers.zip'\n",
        "zip_ref=zipfile.ZipFile(local_zip,'r')\n",
        "zip_ref.extractall('/tmp/flowers')\n",
        "zip_ref.close()"
      ],
      "execution_count": 0,
      "outputs": []
    },
    {
      "cell_type": "code",
      "metadata": {
        "id": "2f4mJvZVv4KQ",
        "colab_type": "code",
        "colab": {}
      },
      "source": [
        "# Making directories using Python\n",
        "flowers=['daisy', 'tulip', 'rose', 'sunflower', 'dandelion']\n",
        "\n",
        "try:\n",
        "    os.makedirs('/tmp/Flowers/training/')\n",
        "    os.makedirs('/tmp/Flowers/testing/')\n",
        "    for flower in flowers:\n",
        "      os.mkdir('/tmp/Flowers/training/'+flower+'/')\n",
        "      os.mkdir('/tmp/Flowers/testing/'+flower+'/')\n",
        "except OSError:\n",
        "     pass"
      ],
      "execution_count": 0,
      "outputs": []
    },
    {
      "cell_type": "code",
      "metadata": {
        "id": "DB29WYBP66N9",
        "colab_type": "code",
        "colab": {}
      },
      "source": [
        "#Function for Splitting Data\n",
        "def split_data(SOURCE,TRAINING,TESTING,SPLIT_SIZE):\n",
        "  files=[]\n",
        "  \n",
        "  for filename in os.listdir(SOURCE):\n",
        "    file=SOURCE+filename\n",
        "    if os.path.getsize(file)>0:\n",
        "      files.append(filename)\n",
        "    else:\n",
        "      print(filename + ' is zero length. So ignoring!')\n",
        "      \n",
        "  train_length =int(len(files)* SPLIT_SIZE)\n",
        "  test_length =int(len(files)-train_length)\n",
        "  \n",
        "  import random\n",
        "  suffled_set=random.sample(files,len(files))\n",
        "  \n",
        "  train_set=suffled_set[0:train_length]\n",
        "  test_set=suffled_set[train_length:]\n",
        "  \n",
        "  from shutil import copyfile\n",
        "  for filename in train_set:\n",
        "    copyfile(SOURCE+filename,TRAINING+filename)\n",
        "    \n",
        "  for filename in test_set:\n",
        "    copyfile(SOURCE+filename,TESTING+filename)\n",
        "    "
      ],
      "execution_count": 0,
      "outputs": []
    },
    {
      "cell_type": "code",
      "metadata": {
        "id": "3K9ERPvf_A3V",
        "colab_type": "code",
        "colab": {}
      },
      "source": [
        "#Splitting Data\n",
        "for flower in flowers:\n",
        "  SOURCE='/tmp/flowers/flowers/'+flower+'/'\n",
        "  TRAINING='/tmp/Flowers/training/'+flower+'/'\n",
        "  TESTING='/tmp/Flowers/testing/'+flower+'/'\n",
        "  SPLIT_SIZE=0.9\n",
        "  split_data(SOURCE,TRAINING,TESTING,SPLIT_SIZE)\n",
        "  "
      ],
      "execution_count": 0,
      "outputs": []
    },
    {
      "cell_type": "code",
      "metadata": {
        "id": "LYJP1fsI-21F",
        "colab_type": "code",
        "outputId": "259e8e96-321c-4dcb-f377-71e290387c05",
        "colab": {
          "base_uri": "https://localhost:8080/",
          "height": 187
        }
      },
      "source": [
        "for flower in flowers:\n",
        "  TRAINING='/tmp/Flowers/training/'+flower+'/'\n",
        "  TESTING='/tmp/Flowers/testing/'+flower+'/'\n",
        "  print('Total training '+ flower+' images:',len(os.listdir(TRAINING)))\n",
        "  print('Total testing '+ flower+' images:',len(os.listdir(TESTING)))\n",
        "  "
      ],
      "execution_count": 6,
      "outputs": [
        {
          "output_type": "stream",
          "text": [
            "Total training daisy images: 692\n",
            "Total testing daisy images: 77\n",
            "Total training tulip images: 885\n",
            "Total testing tulip images: 99\n",
            "Total training rose images: 705\n",
            "Total testing rose images: 79\n",
            "Total training sunflower images: 660\n",
            "Total testing sunflower images: 74\n",
            "Total training dandelion images: 949\n",
            "Total testing dandelion images: 106\n"
          ],
          "name": "stdout"
        }
      ]
    },
    {
      "cell_type": "code",
      "metadata": {
        "id": "37z5_OSkCnfd",
        "colab_type": "code",
        "colab": {}
      },
      "source": [
        "import tensorflow as tf\n",
        "from tensorflow import keras"
      ],
      "execution_count": 0,
      "outputs": []
    },
    {
      "cell_type": "code",
      "metadata": {
        "id": "zmAbAVQnDZP7",
        "colab_type": "code",
        "outputId": "617a8409-6f5c-4f89-eff6-7e1415911d04",
        "colab": {
          "base_uri": "https://localhost:8080/",
          "height": 51
        }
      },
      "source": [
        "#Image Generator\n",
        "from tensorflow.keras.preprocessing.image import ImageDataGenerator\n",
        "\n",
        "# Add data-augmentation parameters to ImageDataGenerator\n",
        "train_datagen = ImageDataGenerator(rescale = 1./255.)\n",
        "                                 \n",
        "train_generator=train_datagen.flow_from_directory(\n",
        "      '/tmp/Flowers/training/',\n",
        "      target_size=(150,150),\n",
        "      batch_size=50,\n",
        "      class_mode='sparse'\n",
        ")\n",
        "\n",
        "test_datagen=ImageDataGenerator(rescale=1./255)\n",
        "test_generator=train_datagen.flow_from_directory(\n",
        "      '/tmp/Flowers/testing/',\n",
        "      target_size=(150,150),\n",
        "      batch_size=10,\n",
        "      class_mode='sparse'\n",
        ")"
      ],
      "execution_count": 20,
      "outputs": [
        {
          "output_type": "stream",
          "text": [
            "Found 3888 images belonging to 5 classes.\n",
            "Found 435 images belonging to 5 classes.\n"
          ],
          "name": "stdout"
        }
      ]
    },
    {
      "cell_type": "code",
      "metadata": {
        "id": "AVuqYcjMF86P",
        "colab_type": "code",
        "outputId": "d5bc07e2-2c52-4598-8d6d-f727c5ad2342",
        "colab": {
          "base_uri": "https://localhost:8080/",
          "height": 105
        }
      },
      "source": [
        "#Building a ConvNet\n",
        "\n",
        "model=tf.keras.models.Sequential([\n",
        "    tf.keras.layers.Conv2D(64,(3,3),activation='relu',input_shape=(150,150,3)),\n",
        "    tf.keras.layers.MaxPooling2D(2,2),\n",
        "    tf.keras.layers.Flatten(),\n",
        "    tf.keras.layers.Dense(512,activation='relu'),\n",
        "    tf.keras.layers.Dense(5,activation='softmax')\n",
        "])"
      ],
      "execution_count": 9,
      "outputs": [
        {
          "output_type": "stream",
          "text": [
            "WARNING: Logging before flag parsing goes to stderr.\n",
            "W0617 01:36:33.451255 140409037449088 deprecation.py:506] From /usr/local/lib/python3.6/dist-packages/tensorflow/python/ops/init_ops.py:1251: calling VarianceScaling.__init__ (from tensorflow.python.ops.init_ops) with dtype is deprecated and will be removed in a future version.\n",
            "Instructions for updating:\n",
            "Call initializer instance with the dtype argument instead of passing it to the constructor\n"
          ],
          "name": "stderr"
        }
      ]
    },
    {
      "cell_type": "code",
      "metadata": {
        "id": "lWXNIVSkG0JJ",
        "colab_type": "code",
        "outputId": "d24a517a-0bb2-4cc7-c8ff-416d1756639f",
        "colab": {
          "base_uri": "https://localhost:8080/",
          "height": 357
        }
      },
      "source": [
        "model.compile(optimizer=RMSprop(lr=0.0001),loss='sparse_categorical_crossentropy',metrics=['accuracy'])\n",
        "history=model.fit_generator(\n",
        "  train_generator,\n",
        "  epochs=10,\n",
        "  validation_data=test_generator,\n",
        "  verbose=1\n",
        ")"
      ],
      "execution_count": 21,
      "outputs": [
        {
          "output_type": "stream",
          "text": [
            "Epoch 1/10\n",
            "78/78 [==============================] - 16s 210ms/step - loss: 1.6126 - acc: 0.5162 - val_loss: 1.5264 - val_acc: 0.5126\n",
            "Epoch 2/10\n",
            "78/78 [==============================] - 13s 168ms/step - loss: 1.0754 - acc: 0.5921 - val_loss: 1.0470 - val_acc: 0.5885\n",
            "Epoch 3/10\n",
            "78/78 [==============================] - 13s 163ms/step - loss: 0.8602 - acc: 0.6633 - val_loss: 0.9811 - val_acc: 0.6207\n",
            "Epoch 4/10\n",
            "78/78 [==============================] - 13s 164ms/step - loss: 0.6964 - acc: 0.7531 - val_loss: 1.0049 - val_acc: 0.6207\n",
            "Epoch 5/10\n",
            "78/78 [==============================] - 13s 166ms/step - loss: 0.5630 - acc: 0.8153 - val_loss: 0.9058 - val_acc: 0.6575\n",
            "Epoch 6/10\n",
            "78/78 [==============================] - 13s 163ms/step - loss: 0.4585 - acc: 0.8565 - val_loss: 0.9464 - val_acc: 0.6621\n",
            "Epoch 7/10\n",
            "78/78 [==============================] - 13s 164ms/step - loss: 0.3495 - acc: 0.9077 - val_loss: 0.8901 - val_acc: 0.6736\n",
            "Epoch 8/10\n",
            "78/78 [==============================] - 13s 164ms/step - loss: 0.2844 - acc: 0.9226 - val_loss: 0.9409 - val_acc: 0.6667\n",
            "Epoch 9/10\n",
            "78/78 [==============================] - 13s 165ms/step - loss: 0.2336 - acc: 0.9375 - val_loss: 0.9687 - val_acc: 0.6667\n",
            "Epoch 10/10\n",
            "78/78 [==============================] - 13s 164ms/step - loss: 0.1778 - acc: 0.9624 - val_loss: 0.9498 - val_acc: 0.6667\n"
          ],
          "name": "stdout"
        }
      ]
    },
    {
      "cell_type": "code",
      "metadata": {
        "id": "K9Rs3HfKLBop",
        "colab_type": "code",
        "outputId": "510e97c7-6983-4141-e578-7bac033adfc3",
        "colab": {
          "base_uri": "https://localhost:8080/",
          "height": 521
        }
      },
      "source": [
        "#Evaluating Accuracy and Loss of the model\n",
        "%matplotlib inline\n",
        "acc=history.history['acc']\n",
        "val_acc=history.history['val_acc']\n",
        "loss=history.history['loss']\n",
        "val_loss=history.history['val_loss']\n",
        "\n",
        "epochs=range(len(acc)) #No. of epochs\n",
        "\n",
        "#Plot training and validation accuracy per epoch\n",
        "import matplotlib.pyplot as plt\n",
        "plt.plot(epochs,acc,'r',label='Training Accuracy')\n",
        "plt.plot(epochs,val_acc,'g',label='Testing Accuracy')\n",
        "plt.legend()\n",
        "plt.figure()\n",
        "\n",
        "#Plot training and validation loss per epoch\n",
        "plt.plot(epochs,loss,'r',label='Training Loss')\n",
        "plt.plot(epochs,val_loss,'g',label='Testing Loss')\n",
        "plt.legend()\n",
        "plt.show()"
      ],
      "execution_count": 22,
      "outputs": [
        {
          "output_type": "display_data",
          "data": {
            "image/png": "[encoded data removed]",
            "text/plain": [
              "<Figure size 432x288 with 1 Axes>"
            ]
          },
          "metadata": {
            "tags": []
          }
        },
        {
          "output_type": "display_data",
          "data": {
            "image/png": "[encoded data removed]",
            "text/plain": [
              "<Figure size 432x288 with 1 Axes>"
            ]
          },
          "metadata": {
            "tags": []
          }
        }
      ]
    },
    {
      "cell_type": "markdown",
      "metadata": {
        "id": "Igd-X5b8FOBR",
        "colab_type": "text"
      },
      "source": [
        "# **Transfer Learning**"
      ]
    },
    {
      "cell_type": "code",
      "metadata": {
        "id": "COxfKxFwFLLL",
        "colab_type": "code",
        "colab": {
          "base_uri": "https://localhost:8080/",
          "height": 221
        },
        "outputId": "d0e0c30d-4a0e-4a33-b9e7-b67985111e6e"
      },
      "source": [
        "from tensorflow.keras import layers\n",
        "from tensorflow.keras import Model\n",
        "!wget --no-check-certificate \\\n",
        "    'https://storage.googleapis.com/mledu-datasets/inception_v3_weights_tf_dim_ordering_tf_kernels_notop.h5' \\\n",
        "    -O '/tmp/inception_v3_weights_tf_dim_ordering_tf_kernels_notop.h5'\n",
        "  \n",
        "from tensorflow.keras.applications.inception_v3 import InceptionV3\n",
        "\n",
        "local_weights_file = '/tmp/inception_v3_weights_tf_dim_ordering_tf_kernels_notop.h5'\n",
        "\n",
        "pre_trained_model = InceptionV3(input_shape = (150, 150, 3), \n",
        "                                include_top = False, \n",
        "                                weights = None)\n",
        "\n",
        "pre_trained_model.load_weights(local_weights_file)\n",
        "\n",
        "for layer in pre_trained_model.layers:\n",
        "  layer.trainable = False\n",
        "  \n",
        "# pre_trained_model.summary()\n",
        "\n",
        "last_layer = pre_trained_model.get_layer('mixed7')\n",
        "print('last layer output shape: ', last_layer.output_shape)\n",
        "last_output = last_layer.output"
      ],
      "execution_count": 11,
      "outputs": [
        {
          "output_type": "stream",
          "text": [
            "--2019-06-17 01:41:43--  https://storage.googleapis.com/mledu-datasets/inception_v3_weights_tf_dim_ordering_tf_kernels_notop.h5\n",
            "Resolving storage.googleapis.com (storage.googleapis.com)... 108.177.111.128, 2607:f8b0:4001:c0c::80\n",
            "Connecting to storage.googleapis.com (storage.googleapis.com)|108.177.111.128|:443... connected.\n",
            "HTTP request sent, awaiting response... 200 OK\n",
            "Length: 87910968 (84M) [application/x-hdf]\n",
            "Saving to: ‘/tmp/inception_v3_weights_tf_dim_ordering_tf_kernels_notop.h5’\n",
            "\n",
            "\r          /tmp/ince   0%[                    ]       0  --.-KB/s               \r         /tmp/incep  35%[======>             ]  29.61M   148MB/s               \r        /tmp/incept  50%[=========>          ]  42.19M   105MB/s               \r/tmp/inception_v3_w 100%[===================>]  83.84M   153MB/s    in 0.5s    \n",
            "\n",
            "2019-06-17 01:41:44 (153 MB/s) - ‘/tmp/inception_v3_weights_tf_dim_ordering_tf_kernels_notop.h5’ saved [87910968/87910968]\n",
            "\n",
            "last layer output shape:  (None, 7, 7, 768)\n"
          ],
          "name": "stdout"
        }
      ]
    },
    {
      "cell_type": "code",
      "metadata": {
        "id": "f2yc1MsdFWjL",
        "colab_type": "code",
        "colab": {}
      },
      "source": [
        "from tensorflow.keras.optimizers import RMSprop\n",
        "\n",
        "# Flatten the output layer to 1 dimension\n",
        "x = layers.Flatten()(last_output)\n",
        "# Add a fully connected layer with 1,024 hidden units and ReLU activation\n",
        "x = layers.Dense(1024, activation='relu')(x)\n",
        "# Add a dropout rate of 0.2\n",
        "#x = layers.Dropout(0.2)(x)                  \n",
        "# Add a final sigmoid layer for classification\n",
        "x = layers.Dense  (5, activation='softmax')(x)           \n",
        "\n",
        "transfer_model = Model( pre_trained_model.input, x) \n",
        "\n",
        "transfer_model.compile(optimizer = RMSprop(lr=0.0001), \n",
        "              loss = 'sparse_categorical_crossentropy', \n",
        "              metrics = ['accuracy'])\n"
      ],
      "execution_count": 0,
      "outputs": []
    },
    {
      "cell_type": "code",
      "metadata": {
        "id": "O1nJl_u4Gcdm",
        "colab_type": "code",
        "colab": {
          "base_uri": "https://localhost:8080/",
          "height": 357
        },
        "outputId": "effce993-a5b2-4383-fcb2-9d1727ee0d84"
      },
      "source": [
        "history1 = transfer_model.fit_generator(\n",
        "            train_generator,\n",
        "            validation_data = test_generator,\n",
        "            #steps_per_epoch = 100,\n",
        "            epochs = 10,\n",
        "            #validation_steps = 50,\n",
        "            verbose = 1)"
      ],
      "execution_count": 31,
      "outputs": [
        {
          "output_type": "stream",
          "text": [
            "Epoch 1/10\n",
            "78/78 [==============================] - 15s 196ms/step - loss: 0.8455 - acc: 0.7045 - val_loss: 1.0205 - val_acc: 0.7195\n",
            "Epoch 2/10\n",
            "78/78 [==============================] - 12s 153ms/step - loss: 0.3236 - acc: 0.8904 - val_loss: 1.3214 - val_acc: 0.6966\n",
            "Epoch 3/10\n",
            "78/78 [==============================] - 12s 156ms/step - loss: 0.1769 - acc: 0.9437 - val_loss: 1.4047 - val_acc: 0.7149\n",
            "Epoch 4/10\n",
            "78/78 [==============================] - 12s 155ms/step - loss: 0.0970 - acc: 0.9727 - val_loss: 1.6099 - val_acc: 0.7103\n",
            "Epoch 5/10\n",
            "78/78 [==============================] - 12s 155ms/step - loss: 0.0622 - acc: 0.9817 - val_loss: 1.4660 - val_acc: 0.7264\n",
            "Epoch 6/10\n",
            "78/78 [==============================] - 12s 154ms/step - loss: 0.0504 - acc: 0.9856 - val_loss: 3.0969 - val_acc: 0.6023\n",
            "Epoch 7/10\n",
            "78/78 [==============================] - 12s 155ms/step - loss: 0.0435 - acc: 0.9897 - val_loss: 2.1705 - val_acc: 0.7218\n",
            "Epoch 8/10\n",
            "78/78 [==============================] - 12s 157ms/step - loss: 0.0333 - acc: 0.9913 - val_loss: 2.0594 - val_acc: 0.7333\n",
            "Epoch 9/10\n",
            "78/78 [==============================] - 12s 155ms/step - loss: 0.0241 - acc: 0.9941 - val_loss: 1.9654 - val_acc: 0.7287\n",
            "Epoch 10/10\n",
            "78/78 [==============================] - 12s 153ms/step - loss: 0.0427 - acc: 0.9900 - val_loss: 2.1297 - val_acc: 0.7264\n"
          ],
          "name": "stdout"
        }
      ]
    },
    {
      "cell_type": "code",
      "metadata": {
        "id": "eqXQLTiLG45I",
        "colab_type": "code",
        "colab": {
          "base_uri": "https://localhost:8080/",
          "height": 521
        },
        "outputId": "ee678585-91f4-440c-df34-862ecb46379c"
      },
      "source": [
        "#Evaluating Accuracy and Loss of the model\n",
        "%matplotlib inline\n",
        "acc=history1.history['acc']\n",
        "val_acc=history1.history['val_acc']\n",
        "loss=history1.history['loss']\n",
        "val_loss=history1.history['val_loss']\n",
        "\n",
        "epochs=range(len(acc)) #No. of epochs\n",
        "\n",
        "#Plot training and validation accuracy per epoch\n",
        "import matplotlib.pyplot as plt\n",
        "plt.plot(epochs,acc,'r',label='Training Accuracy')\n",
        "plt.plot(epochs,val_acc,'g',label='Testing Accuracy')\n",
        "plt.legend()\n",
        "plt.figure()\n",
        "\n",
        "#Plot training and validation loss per epoch\n",
        "plt.plot(epochs,loss,'r',label='Training Loss')\n",
        "plt.plot(epochs,val_loss,'g',label='Testing Loss')\n",
        "plt.legend()\n",
        "plt.show()"
      ],
      "execution_count": 32,
      "outputs": [
        {
          "output_type": "display_data",
          "data": {
            "image/png": "[encoded data removed]",
            "text/plain": [
              "<Figure size 432x288 with 1 Axes>"
            ]
          },
          "metadata": {
            "tags": []
          }
        },
        {
          "output_type": "display_data",
          "data": {
            "image/png": "[encoded data removed]",
            "text/plain": [
              "<Figure size 432x288 with 1 Axes>"
            ]
          },
          "metadata": {
            "tags": []
          }
        }
      ]
    },
    {
      "cell_type": "code",
      "metadata": {
        "id": "wmldtzuQUIIE",
        "colab_type": "code",
        "colab": {}
      },
      "source": [
        "#Clean Up\n",
        "import os,signal\n",
        "os.kill(os.getpid(),signal.SIGKILL)"
      ],
      "execution_count": 0,
      "outputs": []
    },
    {
      "cell_type": "code",
      "metadata": {
        "id": "W7lakDw8WeUs",
        "colab_type": "code",
        "colab": {}
      },
      "source": [
        "#Removing Non empty directory\n",
        "import shutil\n",
        "shutil.rmtree('/tmp/Flowers/')"
      ],
      "execution_count": 0,
      "outputs": []
    }
  ]
}